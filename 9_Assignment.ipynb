{
 "cells": [
  {
   "cell_type": "code",
   "execution_count": 2,
   "id": "00440230-97a1-4d8e-ba4a-39b5c39d2968",
   "metadata": {},
   "outputs": [],
   "source": [
    "# Q1. What is Abstraction in OOps? Explain with an example.\n"
   ]
  },
  {
   "cell_type": "code",
   "execution_count": 2,
   "id": "40f2f3f1-84bb-440e-a487-d38355e1e7d3",
   "metadata": {},
   "outputs": [],
   "source": [
    "Ans : Abstraction is one of the four pillar of object-oriented programming (OOP)\n",
    "     It refers to the process of hiding the implementation details of a particular\n",
    "     object or system, and show only the essential characteristics or behaviors \n",
    "     to users. This allows the users to interact with the object or system in a \n",
    "     simplified manner , without having to worry about the Your critical data or\n",
    "     information.\n",
    "    \n",
    "     Example: Like a normal user don't know what happen internally in my phone like\n",
    "        how it work how image , video run this information is useless for normal user\n",
    "        so it hide from user or user only use import thing like see frontend information\n",
    "        or data"
   ]
  },
  {
   "cell_type": "code",
   "execution_count": 4,
   "id": "6e05e6bc-d909-4419-ac78-b266e230157d",
   "metadata": {},
   "outputs": [],
   "source": [
    "# Q2. Differentiate between Abstraction and Encapsulation. Explain with an example."
   ]
  },
  {
   "cell_type": "code",
   "execution_count": null,
   "id": "1c10ede1-3fef-48ce-8ccf-19044b4c77e4",
   "metadata": {},
   "outputs": [],
   "source": [
    "Ans :  Abstraction is the process of hiding the implementation details of an object or system \n",
    "     and exposing only the essential information or behaviors that are relevant to the users.\n",
    "     The goal of abstraction is to simplify the interaction between the user or system.\n",
    "     example : A normal user don't know how battery work , how video run on screen\n",
    "\n",
    "     Encapsulation is a method to binding two more thing in single unit or wrap in single unit \n",
    "     This allows you to keep the implementation details of an object hidden and protect them from external \n",
    "     modifications. Encapsulation also helps to promote modularity and reusability by allowing you to create \n",
    "     self-contained objects that can be used and reused in different parts of a system"
   ]
  },
  {
   "cell_type": "code",
   "execution_count": null,
   "id": "44690372-3074-4194-8ca9-911d8950e020",
   "metadata": {},
   "outputs": [],
   "source": [
    "# Q.3> What is abc module in python? Why is it used?"
   ]
  },
  {
   "cell_type": "code",
   "execution_count": null,
   "id": "6b720905-9632-4d1d-8b27-307b511dab05",
   "metadata": {},
   "outputs": [],
   "source": [
    "Ans : The abc module in Python is short for \"Abstract Base Classes\". It provides a way to define\n",
    "      abstract base classes in Python, which are classes that cannot be instantiated, but serve\n",
    "      as a base for other classes to inherit from.\n",
    "\n",
    "      The main purpose of using abstract base classes is to provide a common interface for a set\n",
    "      of related classes, without having to specify the implementation details. This allows for \n",
    "      easier maintenance, as changes to the base class can be made in a single place and automatically\n",
    "      affect all derived classes.\n",
    "        \n",
    "      In summary, the abc module in Python provides a way to define abstract base classes, allowing\n",
    "      for the creation of a common interface for related classes, improved maintainability, and \n",
    "      better code organization."
   ]
  },
  {
   "cell_type": "code",
   "execution_count": null,
   "id": "579881bf-84e2-4448-89b6-da1ca5b70cfc",
   "metadata": {},
   "outputs": [],
   "source": [
    "# Q4. How can we achieve data abstraction?\n",
    "Ans :\n",
    "    Data abstraction is a technique for hiding the implementation details of a class and only exposing its essential \n",
    "    features to the outside world. It helps to achieve encapsulation, which is one of the fundamental principles of \n",
    "    object-oriented programming.\n",
    "    \n",
    "    1. Using Abstract Base Classes (ABCs): As described in the previous answer, the abc module provides a way to define\n",
    "    abstract base classes that can be used as a blueprint for other classes. \n",
    "    \n",
    "    2. Using Interfaces: In Python, an interface is simply a class that defines a set of methods without providing an \n",
    "       implementation.\n",
    "    \n",
    "    3.Using Private Attributes and Methods: In Python, attributes and methods that start with an underscore are considered\n",
    "      private, and are not intended to be used outside the class. By keeping the implementation details of a class hidden\n",
    "      behind private attributes and methods, you can achieve data abstraction and make the class easier to maintain and\n",
    "      understand.\n",
    "        \n",
    "    data abstraction is an important technique for achieving encapsulation and promoting better code organization. \n",
    "    It can be achieved in Python using various techniques such as abstract base classes, interfaces, properties,\n",
    "    and private attributes and methods."
   ]
  },
  {
   "cell_type": "code",
   "execution_count": 1,
   "id": "26ffe6f0-cd98-45a3-8b01-9e0645812caa",
   "metadata": {},
   "outputs": [],
   "source": [
    "# Q5. Can we create an instance of an abstract class? Explain your answer."
   ]
  },
  {
   "cell_type": "code",
   "execution_count": null,
   "id": "1d99086a-efcc-41a3-b3ad-29962ac1f7c1",
   "metadata": {},
   "outputs": [],
   "source": [
    "Ans : No, you cannot create an instance of an abstract class in Python. An abstract class is a class that is\n",
    "      intended to be used as a base for other classes, and cannot be instantiated on its own. The main purpose \n",
    "      of an abstract class is to provide a common interface for a set of related classes, without having to specify \n",
    "      the implementation details.\n",
    "      \n",
    "      In Python, abstract classes are defined using the abc module, which provides the ABC class that can be used\n",
    "      as a base class for defining abstract base classes.\n",
    "        \n",
    "       it is not possible to create an instance of an abstract class in Python, as the main purpose of an abstract\n",
    "      class is to provide a blueprint for other classes to inherit from, not to be instantiated on its own."
   ]
  }
 ],
 "metadata": {
  "kernelspec": {
   "display_name": "Python 3 (ipykernel)",
   "language": "python",
   "name": "python3"
  },
  "language_info": {
   "codemirror_mode": {
    "name": "ipython",
    "version": 3
   },
   "file_extension": ".py",
   "mimetype": "text/x-python",
   "name": "python",
   "nbconvert_exporter": "python",
   "pygments_lexer": "ipython3",
   "version": "3.10.8"
  }
 },
 "nbformat": 4,
 "nbformat_minor": 5
}
