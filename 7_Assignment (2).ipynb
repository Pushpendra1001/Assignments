{
 "cells": [
  {
   "cell_type": "code",
   "execution_count": 8,
   "id": "827ea012-2fe5-4cd5-8911-2d624aabaca7",
   "metadata": {},
   "outputs": [],
   "source": [
    "\n",
    "# Q1. Create a function which will take a list as an argument and return the product of all the numbers\n",
    "# after creating a flat list.\n",
    "# Use the below-given list as an argument for your function.\n",
    "# list1 = [1,2,3,4, [44,55,66, True], False, (34,56,78,89,34), {1,2,3,3,2,1}, {1:34, \"key2\": [55, 67, 78, 89], 4: (45,\n",
    "# 22, 61, 34)}, [56, 'data science'], 'Machine Learning']\n",
    "# Note: you must extract numeric keys and values of the dictionary also.\n"
   ]
  },
  {
   "cell_type": "code",
   "execution_count": 11,
   "id": "dcd9c0fc-2477-42e9-bfb3-32d1569bd823",
   "metadata": {},
   "outputs": [
    {
     "name": "stdout",
     "output_type": "stream",
     "text": [
      "[1, 2, 3, 4, 44, 55, 66, 34, 56, 78, 89, 34, 1, 2, 3, 34, 56]\n"
     ]
    },
    {
     "data": {
      "text/plain": [
       "19679733278309744640"
      ]
     },
     "execution_count": 11,
     "metadata": {},
     "output_type": "execute_result"
    }
   ],
   "source": [
    "list1 = [1,2,3,4, [44,55,66, True], False, (34,56,78,89,34), {1,2,3,3,2,1}, {1:34, \"key2\": [55, 67, 78, 89], 4: (45,\n",
    "22, 61, 34)}, [56, 'data science'], 'Machine Learning']\n",
    "\n",
    "from functools import reduce\n",
    "def product_list(*args):\n",
    "    l3 = []\n",
    "    for Tuple in args:\n",
    "        for List in Tuple:\n",
    "            if type(List) == int:\n",
    "                l3.append(List)\n",
    "            elif type(List) == list:\n",
    "                for k in List:\n",
    "                    if type(k) == int:\n",
    "                        l3.append(k)\n",
    "            elif type(List) == tuple:\n",
    "                for k in List:\n",
    "                    if type(k) == int:\n",
    "                        l3.append(k)\n",
    "            elif type(List) == set:\n",
    "                for k in List:\n",
    "                    if type(k) == int:\n",
    "                        l3.append(k)\n",
    "            elif type(List) == dict:\n",
    "                for k in List.values():\n",
    "                    if type(k) == int:\n",
    "                        l3.append(k)\n",
    "            else:\n",
    "                pass\n",
    "    return l3\n",
    "l3 = product_list(list1)\n",
    "print(l3)\n",
    "product = lambda x,y : x*y\n",
    "reduce(product, l3)"
   ]
  },
  {
   "cell_type": "code",
   "execution_count": null,
   "id": "a8d58782-99cf-41e3-8695-a89f023dcc1a",
   "metadata": {},
   "outputs": [],
   "source": [
    "#  Q2. Write a python program for encrypting a message sent to you by your friend. The logic of encryption\n",
    "# should be such that, for a the output should be z. For b, the output should be y. For c, the output should\n",
    "# be x respectively. Also, the whitespace should be replaced with a dollar sign. Keep the punctuation\n",
    "# marks unchanged.\n",
    "# Input Sentence: I want to become a Data Scientist.\n",
    "# Encrypt the above input sentence using the program you just created.\n",
    "# Note: Convert the given input sentence into lowercase before encrypting. The final output should be\n",
    "# lowercase."
   ]
  },
  {
   "cell_type": "code",
   "execution_count": 4,
   "id": "dcd22c9e-c8b1-421d-9bda-a549a8f9ca47",
   "metadata": {},
   "outputs": [
    {
     "name": "stdin",
     "output_type": "stream",
     "text": [
      "Enter Your message :  I want to become a Data Scientist.\n"
     ]
    },
    {
     "name": "stdout",
     "output_type": "stream",
     "text": [
      "r$dzmg$gl$yvxlnv$z$wzgz$hxrvmgrhg.\n"
     ]
    }
   ],
   "source": [
    "def encrypt_message(message):\n",
    "    encrypted = ''\n",
    "    for char in message.lower():\n",
    "        if char == ' ':\n",
    "            encrypted += '$'\n",
    "        elif char.isalpha():\n",
    "            encrypted += chr(ord('a') + (25 - (ord(char) - ord('a'))))\n",
    "        else:\n",
    "            encrypted += char\n",
    "    return encrypted.lower()\n",
    "\n",
    "# I want to become a Data Scientist.\n",
    "user_input = input(\"Enter Your message : \")\n",
    "encrypted_sentence = encrypt_message(user_input)\n",
    "print(encrypted_sentence)\n"
   ]
  },
  {
   "cell_type": "code",
   "execution_count": null,
   "id": "09092318-bb7a-483e-9f90-ab6b8be7178b",
   "metadata": {},
   "outputs": [],
   "source": []
  }
 ],
 "metadata": {
  "kernelspec": {
   "display_name": "Python 3 (ipykernel)",
   "language": "python",
   "name": "python3"
  },
  "language_info": {
   "codemirror_mode": {
    "name": "ipython",
    "version": 3
   },
   "file_extension": ".py",
   "mimetype": "text/x-python",
   "name": "python",
   "nbconvert_exporter": "python",
   "pygments_lexer": "ipython3",
   "version": "3.10.8"
  }
 },
 "nbformat": 4,
 "nbformat_minor": 5
}
