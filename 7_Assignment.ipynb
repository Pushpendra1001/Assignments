{
 "cells": [
  {
   "cell_type": "code",
   "execution_count": null,
   "id": "827ea012-2fe5-4cd5-8911-2d624aabaca7",
   "metadata": {},
   "outputs": [],
   "source": [
    "\n",
    "# Q1. Create a function which will take a list as an argument and return the product of all the numbers\n",
    "# after creating a flat list.\n",
    "# Use the below-given list as an argument for your function.\n",
    "# list1 = [1,2,3,4, [44,55,66, True], False, (34,56,78,89,34), {1,2,3,3,2,1}, {1:34, \"key2\": [55, 67, 78, 89], 4: (45,\n",
    "# 22, 61, 34)}, [56, 'data science'], 'Machine Learning']\n",
    "# Note: you must extract numeric keys and values of the dictionary also.\n"
   ]
  },
  {
   "cell_type": "code",
   "execution_count": 3,
   "id": "dcd9c0fc-2477-42e9-bfb3-32d1569bd823",
   "metadata": {},
   "outputs": [
    {
     "name": "stdout",
     "output_type": "stream",
     "text": [
      "2315262738624675840\n"
     ]
    }
   ],
   "source": [
    "\n",
    "\n",
    "def Product(List):\n",
    "    list1 = []\n",
    "    def A(List):\n",
    "        for i in List:\n",
    "            if type(i) in (dict, list, set, tuple):\n",
    "                A(i)\n",
    "            elif type(i) == int:\n",
    "                list1.append(i)\n",
    "    A(List)\n",
    "    product = 1\n",
    "    for num in list1:\n",
    "        product *= num\n",
    "    return product\n",
    "\n",
    "list2 = [1,2,3,4, [44,55,66, True], False, (34,56,78,89,34), {1,2,3,3,2,1}, {1:34, \"key2\": [55, 67, 78, 89], 4: (45, 22, 61, 34)}, [56, 'data science'], 'Machine Learning']\n",
    "print(Product(list2))"
   ]
  },
  {
   "cell_type": "code",
   "execution_count": null,
   "id": "a8d58782-99cf-41e3-8695-a89f023dcc1a",
   "metadata": {},
   "outputs": [],
   "source": [
    "#  Q2. Write a python program for encrypting a message sent to you by your friend. The logic of encryption\n",
    "# should be such that, for a the output should be z. For b, the output should be y. For c, the output should\n",
    "# be x respectively. Also, the whitespace should be replaced with a dollar sign. Keep the punctuation\n",
    "# marks unchanged.\n",
    "# Input Sentence: I want to become a Data Scientist.\n",
    "# Encrypt the above input sentence using the program you just created.\n",
    "# Note: Convert the given input sentence into lowercase before encrypting. The final output should be\n",
    "# lowercase."
   ]
  },
  {
   "cell_type": "code",
   "execution_count": 9,
   "id": "dcd22c9e-c8b1-421d-9bda-a549a8f9ca47",
   "metadata": {},
   "outputs": [
    {
     "name": "stdin",
     "output_type": "stream",
     "text": [
      "Please enter your message ? I want to become a Data Scientist.\n"
     ]
    },
    {
     "name": "stdout",
     "output_type": "stream",
     "text": [
      "t$nzro$oq$yuxqsu$z$vzoz$pxturotpo\n"
     ]
    }
   ],
   "source": [
    "user_input = input(\"Enter your message\")\n",
    "dict_input = {\"a\": \"z\", \"b\": \"y\", \"c\": \"x\", \"d\": \"v\", \"e\": \"u\", \"i\": \"t\", \n",
    "              \"m\": \"s\", \"n\": \"r\", \"o\": \"q\", \"s\": \"p\", \"t\": \"o\", \"w\": \"n\"}\n",
    "\n",
    "rev_input = user_input.lower()\n",
    "encrypt_list = []\n",
    "for i in rev_input:\n",
    "    if i == \" \":\n",
    "        encrypt_list.append(\"$\")\n",
    "    elif i in dict_input:\n",
    "        encrypt_list.append(dict_input[i])\n",
    "encrypt_message= \"\".join(encrypt_list)\n",
    "print(encrypt_message)"
   ]
  },
  {
   "cell_type": "code",
   "execution_count": null,
   "id": "09092318-bb7a-483e-9f90-ab6b8be7178b",
   "metadata": {},
   "outputs": [],
   "source": []
  }
 ],
 "metadata": {
  "kernelspec": {
   "display_name": "Python 3 (ipykernel)",
   "language": "python",
   "name": "python3"
  },
  "language_info": {
   "codemirror_mode": {
    "name": "ipython",
    "version": 3
   },
   "file_extension": ".py",
   "mimetype": "text/x-python",
   "name": "python",
   "nbconvert_exporter": "python",
   "pygments_lexer": "ipython3",
   "version": "3.10.8"
  }
 },
 "nbformat": 4,
 "nbformat_minor": 5
}
