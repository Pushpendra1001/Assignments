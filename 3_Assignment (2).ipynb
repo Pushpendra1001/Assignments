{
 "cells": [
  {
   "cell_type": "code",
   "execution_count": null,
   "id": "21e3f78d-0f70-4f32-8f75-55263c81e825",
   "metadata": {},
   "outputs": [],
   "source": [
    "print(\"hi\")"
   ]
  },
  {
   "cell_type": "code",
   "execution_count": 1,
   "id": "eaf8ee1d-1bae-4939-9542-ec9f5e85a42d",
   "metadata": {},
   "outputs": [
    {
     "name": "stdout",
     "output_type": "stream",
     "text": [
      "1\n",
      "2\n",
      "3\n",
      "4\n",
      "5\n",
      "6\n",
      "7\n",
      "8\n",
      "9\n",
      "10\n",
      "1\n",
      "2\n",
      "3\n",
      "4\n",
      "5\n",
      "6\n",
      "7\n",
      "8\n",
      "9\n"
     ]
    }
   ],
   "source": [
    "# Q1 Explain with an example each when to use a for loop and\n",
    "# a while loop\n",
    "# Ans :\n",
    "    \n",
    "#     For loop : For loop is used when we want to repeat a specific\n",
    "#                block of code till the condition is meet the code\n",
    "#                will run in for loop we know how many times loop\n",
    "#                is run \n",
    "for i in range(10):\n",
    "    print(i+1)\n",
    "            \n",
    "    # while loop : While loop is also run a specific block of code\n",
    "    #              but when we use while loop we don't know  how \n",
    "    #              many time the loop is run it run untill the \n",
    "    #              condition meet \n",
    "j=1\n",
    "while j < 10 :\n",
    "    print(j)\n",
    "    j=j+1"
   ]
  },
  {
   "cell_type": "code",
   "execution_count": 2,
   "id": "b61a310c-7789-4039-9a87-a93053d412aa",
   "metadata": {},
   "outputs": [
    {
     "name": "stdin",
     "output_type": "stream",
     "text": [
      " 10\n"
     ]
    },
    {
     "name": "stdout",
     "output_type": "stream",
     "text": [
      "55\n"
     ]
    }
   ],
   "source": [
    "# Q2 Write a python program to print the sum and product of the \n",
    "# first 10 natural numbers using for and while loop\n",
    "n = int(input())\n",
    "i = 1\n",
    "counter = 0\n",
    "while i <=n :\n",
    "    counter = counter + i\n",
    "    i = i+1\n",
    "print(counter)    "
   ]
  },
  {
   "cell_type": "code",
   "execution_count": 4,
   "id": "986368c2-444c-4c7a-a957-90a0dd047cd9",
   "metadata": {},
   "outputs": [
    {
     "name": "stdin",
     "output_type": "stream",
     "text": [
      "Enter How much unit You use  310\n"
     ]
    },
    {
     "name": "stdout",
     "output_type": "stream",
     "text": [
      "The Total Bill Amount is : Rs 2250.0\n"
     ]
    }
   ],
   "source": [
    "# Q3. Create a python program to compute the electricity bill\n",
    "# for a household .\n",
    "# The per-unit charges in rupees are as follows : for the first\n",
    "# 100 units, the user will be charged Rs 4.5per unit, for the \n",
    "# next 100 units, the user will be charged Rs 6 per unit , and\n",
    "# for the next 100 units, the user will be charged Rs. 10 per\n",
    "# unit, After 300 units and above the user will be charged\n",
    "# Rs. 20 per unit\n",
    "\n",
    "\n",
    "\n",
    "Total_unit = int(input(\"Enter How much unit You use \"))\n",
    "amount = 0\n",
    "if Total_unit <= 100 :\n",
    "                 amount = Total_unit * first_100\n",
    "                 print(amount)\n",
    "elif Total_unit <= 200 :\n",
    "                 amount = 100 * 4.5 + (Total_unit - 100 ) * 6\n",
    "                 print(amount)\n",
    "elif Total_unit <=300 :\n",
    "                 amount = 100 * 4.5 + 100 * 6 + (Total_unit - 200 ) * 10\n",
    "else :\n",
    "                 amount = 100 * 4.5 + 100 * 6 + 100 * 10 + (Total_unit - 300 ) * 20\n",
    "\n",
    "print(\"The Total Bill Amount is : Rs\",amount)\n",
    "                 \n"
   ]
  },
  {
   "cell_type": "code",
   "execution_count": 28,
   "id": "06c53515-5c26-434c-9f75-67df78814dd2",
   "metadata": {},
   "outputs": [
    {
     "name": "stdout",
     "output_type": "stream",
     "text": [
      "Those Numbers whose cube That are divide by 4 , 5 :  [2, 4, 5, 6, 8, 10, 12, 14, 15, 16, 18, 20, 22, 24, 25, 26, 28, 30, 32, 34, 35, 36, 38, 40, 42, 44, 45, 46, 48, 50, 52, 54, 55, 56, 58, 60, 62, 64, 65, 66, 68, 70, 72, 74, 75, 76, 78, 80, 82, 84, 85, 86, 88, 90, 92, 94, 95, 96, 98, 100]\n"
     ]
    }
   ],
   "source": [
    "# Q4 Create a list of numbers from 1 to 100. Use for loop and while loop to calculate the cube of each\n",
    "# number and if the cube of that number is divisible by 4 or 5 then append that number in a list and print\n",
    "# that list.\n",
    "# Ans :\n",
    "numbers = [i for i in range(1,101)]\n",
    "divided_numbers = []\n",
    "# using for loop\n",
    "for i in numbers :\n",
    "    cube_numbers = i ** 3\n",
    "    if cube_numbers % 4 == 0 or cube_numbers % 5 == 0 :\n",
    "        divided_numbers.append(i)\n",
    "print(\"Those Numbers whose cube That are divide by 4 , 5 : \",divided_numbers)"
   ]
  },
  {
   "cell_type": "code",
   "execution_count": 2,
   "id": "3614bb7e-6159-4130-8658-4e7b7bb09af6",
   "metadata": {},
   "outputs": [
    {
     "name": "stdout",
     "output_type": "stream",
     "text": [
      "Those Numbers whose cube That are divided by 4 or 5 :  [2, 4, 5, 6, 8, 10, 12, 14, 15, 16, 18, 20, 22, 24, 25, 26, 28, 30, 32, 34, 35, 36, 38, 40, 42, 44, 45, 46, 48, 50, 52, 54, 55, 56, 58, 60, 62, 64, 65, 66, 68, 70, 72, 74, 75, 76, 78, 80, 82, 84, 85, 86, 88, 90, 92, 94, 95, 96, 98, 100]\n"
     ]
    }
   ],
   "source": [
    "# using while loop\n",
    "# using while loop\n",
    "list_of_divided =[]\n",
    "i = 1\n",
    "while i <=100:\n",
    "    cube_number = i **3\n",
    "    if cube_number % 4 == 0 or cube_number % 5 ==0 :\n",
    "        list_of_divided.append(i)\n",
    "    i+=1        \n",
    "print(\"Those Numbers whose cube That are divided by 4 or 5 : \",list_of_divided)        \n"
   ]
  },
  {
   "cell_type": "code",
   "execution_count": 10,
   "id": "1c7f6cfa-10b6-40ee-8c6e-3523660875ec",
   "metadata": {},
   "outputs": [
    {
     "name": "stdout",
     "output_type": "stream",
     "text": [
      "Total vowels are :  12\n"
     ]
    }
   ],
   "source": [
    "# Q5 Write a program to filter count vowels in the below-given\n",
    "# string \n",
    "string = \"I want to become a data Scientist\"\n",
    "l1 = string.lower()\n",
    "count = 0\n",
    "i=0\n",
    "while i < len(string) :\n",
    "    if l1[i] == 'a' or l1[i] == 'e' or l1[i] == 'i' or l1[i] == 'o' or l1[i] == 'u':\n",
    "        count +=1\n",
    "    i+=1\n",
    "print(\"Total vowels are : \",count)            \n"
   ]
  },
  {
   "cell_type": "code",
   "execution_count": null,
   "id": "334d8cb5-56c3-418a-90a7-d8cdfe682ecf",
   "metadata": {},
   "outputs": [],
   "source": []
  }
 ],
 "metadata": {
  "kernelspec": {
   "display_name": "Python 3 (ipykernel)",
   "language": "python",
   "name": "python3"
  },
  "language_info": {
   "codemirror_mode": {
    "name": "ipython",
    "version": 3
   },
   "file_extension": ".py",
   "mimetype": "text/x-python",
   "name": "python",
   "nbconvert_exporter": "python",
   "pygments_lexer": "ipython3",
   "version": "3.10.8"
  }
 },
 "nbformat": 4,
 "nbformat_minor": 5
}
