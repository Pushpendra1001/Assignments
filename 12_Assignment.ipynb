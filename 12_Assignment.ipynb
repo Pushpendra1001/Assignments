{
 "cells": [
  {
   "cell_type": "code",
   "execution_count": 1,
   "id": "1e9d3952-041e-4346-8d15-ceb93e555c65",
   "metadata": {},
   "outputs": [],
   "source": [
    "# Q1 what is exception in python ? wrtie the difference between exception and syntax error.\n"
   ]
  },
  {
   "cell_type": "code",
   "execution_count": null,
   "id": "998caa25-b32c-463f-a977-99312c324821",
   "metadata": {},
   "outputs": [],
   "source": [
    "Ans : \n",
    "        In Python exceptions are used to solve run time error it  handled using the try and except\n",
    "        statements. The code that may raise an exception is placed inside the try block, and the\n",
    "        code to handle the exception is placed inside the except block \n",
    "        \n",
    "        The main difference between a syntax error and an exception in Python is that a syntax error\n",
    "        is caused by incorrect code structure or an exception is raised when the code runs but \n",
    "        encounters an run time error or exception during run time or syntax error we got on compile \n",
    "        time\n",
    "        \n",
    "        "
   ]
  },
  {
   "cell_type": "code",
   "execution_count": 2,
   "id": "fe309e30-d519-4d37-9e2c-7fab5b577564",
   "metadata": {},
   "outputs": [],
   "source": [
    "# Q2 What Happen When Exception is not Handled ? Explain With example "
   ]
  },
  {
   "cell_type": "code",
   "execution_count": 1,
   "id": "42288168-335b-4ff5-bbc2-96bff2ec59f1",
   "metadata": {},
   "outputs": [
    {
     "name": "stdout",
     "output_type": "stream",
     "text": [
      "Thor\n"
     ]
    },
    {
     "ename": "ZeroDivisionError",
     "evalue": "division by zero",
     "output_type": "error",
     "traceback": [
      "\u001b[0;31m---------------------------------------------------------------------------\u001b[0m",
      "\u001b[0;31mZeroDivisionError\u001b[0m                         Traceback (most recent call last)",
      "Cell \u001b[0;32mIn[1], line 5\u001b[0m\n\u001b[1;32m      1\u001b[0m \u001b[38;5;66;03m# Ans :\u001b[39;00m\n\u001b[1;32m      2\u001b[0m \u001b[38;5;66;03m#     If in our program there is an Exception or we don't solve that Exception or handle then \u001b[39;00m\n\u001b[1;32m      3\u001b[0m \u001b[38;5;66;03m#     we got run time error our our remaining program is closed or we don't get reamining output \u001b[39;00m\n\u001b[1;32m      4\u001b[0m \u001b[38;5;28mprint\u001b[39m(\u001b[38;5;124m\"\u001b[39m\u001b[38;5;124mThor\u001b[39m\u001b[38;5;124m\"\u001b[39m)\n\u001b[0;32m----> 5\u001b[0m \u001b[38;5;241;43m5\u001b[39;49m\u001b[38;5;241;43m/\u001b[39;49m\u001b[38;5;241;43m0\u001b[39;49m\n\u001b[1;32m      6\u001b[0m \u001b[38;5;28mprint\u001b[39m(\u001b[38;5;124m\"\u001b[39m\u001b[38;5;124mIronman\u001b[39m\u001b[38;5;124m\"\u001b[39m)\n",
      "\u001b[0;31mZeroDivisionError\u001b[0m: division by zero"
     ]
    }
   ],
   "source": [
    "# Ans :\n",
    "    # If in our program there is an Exception or we don't solve that Exception or handle then \n",
    "    # we got run time error our our remaining program is closed or we don't get reamining output \n",
    "print(\"Thor\")\n",
    "5/0\n",
    "print(\"Ironman\")"
   ]
  },
  {
   "cell_type": "code",
   "execution_count": 5,
   "id": "660b4c01-d2e3-49cc-9c94-c43a0c657534",
   "metadata": {},
   "outputs": [],
   "source": [
    "# it occur when we don't handle the Exception"
   ]
  },
  {
   "cell_type": "code",
   "execution_count": 6,
   "id": "2fdab568-e767-4dd3-8554-01c223b22999",
   "metadata": {},
   "outputs": [
    {
     "name": "stdout",
     "output_type": "stream",
     "text": [
      "Thor\n",
      "division by zero\n",
      "Ironman\n"
     ]
    }
   ],
   "source": [
    "try:\n",
    "    print(\"Thor\")\n",
    "    5/0\n",
    "    \n",
    "except ZeroDivisionError as e :\n",
    "    print(e)\n",
    "print(\"Ironman\")"
   ]
  },
  {
   "cell_type": "code",
   "execution_count": null,
   "id": "d006101c-6a3b-4896-83f4-09f91d95d2be",
   "metadata": {},
   "outputs": [],
   "source": [
    "# so here we solve the exception or get remaining output "
   ]
  },
  {
   "cell_type": "code",
   "execution_count": 2,
   "id": "976961a5-45db-4906-8dc1-ee3b75d1e983",
   "metadata": {},
   "outputs": [],
   "source": [
    "# Q3 Which python statements are used to catch and handled exceptions? Explain With Example."
   ]
  },
  {
   "cell_type": "code",
   "execution_count": 5,
   "id": "06653745-b6be-414d-b4ea-a4b096d8b947",
   "metadata": {},
   "outputs": [],
   "source": [
    "Ans : \n",
    "    In Python we use try and catch block to handled exceptions the basic syntax of try and catch is\n",
    "    \n",
    "try :\n",
    "    # Code where we doubt to get error \n",
    "except exception as e :\n",
    "    # code where we handled that error \n",
    "    \n"
   ]
  },
  {
   "cell_type": "code",
   "execution_count": 7,
   "id": "12a00e6d-6288-4bc4-a33c-d28efd7453a5",
   "metadata": {},
   "outputs": [
    {
     "name": "stdout",
     "output_type": "stream",
     "text": [
      "division by zero\n"
     ]
    }
   ],
   "source": [
    "# Example \n",
    "\n",
    "try :\n",
    "    5/0\n",
    "except ZeroDivisionError as e :\n",
    "    print(e)\n",
    "        "
   ]
  },
  {
   "cell_type": "code",
   "execution_count": null,
   "id": "63736271-bc68-43fa-bd0f-af5f64b7d882",
   "metadata": {},
   "outputs": [],
   "source": [
    "Q4 Explain :\n",
    "    A : try and else\n",
    "    B = finally\n",
    "    c = raise"
   ]
  },
  {
   "cell_type": "code",
   "execution_count": null,
   "id": "8b86734c-125d-400d-9e36-80d19dbdc60e",
   "metadata": {},
   "outputs": [],
   "source": [
    "\n",
    "try : where we have doubt or have possibility to get error \n",
    "     those code we write in try block\n",
    "\n",
    "else : else block is only execute when try block execute successful \n",
    "       then else block code will execute\n",
    "\n",
    "finally : it will execute whether we got exception or not \n",
    "\n",
    "raise : it is used to explicitly raise an exception. It allows you to\n",
    "         generate a custom exception \n"
   ]
  },
  {
   "cell_type": "code",
   "execution_count": 6,
   "id": "43f61cfd-3013-479d-9326-7f50c6c3c402",
   "metadata": {},
   "outputs": [
    {
     "name": "stdout",
     "output_type": "stream",
     "text": [
      "try block\n",
      "else block\n",
      "finally block\n"
     ]
    }
   ],
   "source": [
    "# example \n",
    "try :\n",
    "    4/2\n",
    "    print(\"try block\")\n",
    "except Exception as e :\n",
    "    print(\"Handled\")\n",
    "else :\n",
    "    print(\"else block\")\n",
    "\n",
    "finally : \n",
    "    print(\"finally block\")\n"
   ]
  },
  {
   "cell_type": "code",
   "execution_count": 7,
   "id": "9b4cba47-1f29-47bf-8f0e-47f196059381",
   "metadata": {},
   "outputs": [
    {
     "name": "stdout",
     "output_type": "stream",
     "text": [
      "Handled\n",
      "finally block\n"
     ]
    }
   ],
   "source": [
    "try :\n",
    "    4/0\n",
    "    print(\"try block\")\n",
    "except Exception as e :\n",
    "    print(\"Handled\")\n",
    "else :\n",
    "    print(\"else block\")\n",
    "\n",
    "finally : \n",
    "    print(\"finally block\")\n"
   ]
  },
  {
   "cell_type": "code",
   "execution_count": 8,
   "id": "37701703-040a-4a28-a0c7-289029abddf6",
   "metadata": {},
   "outputs": [],
   "source": [
    "# Q5. What are Custom Exceptions in python? Why do we need Custom Exceptions?\n",
    "#     Explain with an example"
   ]
  },
  {
   "cell_type": "code",
   "execution_count": 2,
   "id": "b5bdcd75-3708-4bd3-a505-0fad37391fae",
   "metadata": {},
   "outputs": [
    {
     "name": "stdout",
     "output_type": "stream",
     "text": [
      "Cannot divide by zero\n",
      "Continue\n"
     ]
    }
   ],
   "source": [
    "# Ans:\n",
    "class CustomException(Exception):\n",
    "    def __init__(self, message):\n",
    "        self.message = message\n",
    "\n",
    "def divide(a, b):\n",
    "    if b == 0:\n",
    "        raise CustomException(\"You Can't divide by zero\")\n",
    "    return a / b\n",
    "\n",
    "try:\n",
    "    result = divide(10, 0)\n",
    "except CustomException as e:\n",
    "    print(e.message)\n",
    "\n",
    "print(\"Continue\")"
   ]
  },
  {
   "cell_type": "code",
   "execution_count": null,
   "id": "71b1a804-2c65-45be-8f5c-ad551b08e949",
   "metadata": {},
   "outputs": [],
   "source": []
  }
 ],
 "metadata": {
  "kernelspec": {
   "display_name": "Python 3 (ipykernel)",
   "language": "python",
   "name": "python3"
  },
  "language_info": {
   "codemirror_mode": {
    "name": "ipython",
    "version": 3
   },
   "file_extension": ".py",
   "mimetype": "text/x-python",
   "name": "python",
   "nbconvert_exporter": "python",
   "pygments_lexer": "ipython3",
   "version": "3.10.8"
  }
 },
 "nbformat": 4,
 "nbformat_minor": 5
}
