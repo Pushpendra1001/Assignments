{
 "cells": [
  {
   "cell_type": "code",
   "execution_count": 27,
   "id": "294b809e-c422-4508-8a5b-ad5525ff3921",
   "metadata": {},
   "outputs": [],
   "source": [
    "# Q1. You are writing code for a company. The requirement of the company is that you create a python\n",
    "# function that will check whether the password entered by the user is correct or not. The function should\n",
    "# take the password as input and return the string “Valid Password” if the entered password follows the\n",
    "# below-given password guidelines else it should return “Invalid Password”.\n",
    "# Note: 1. The Password should contain at least two uppercase letters and at least two lowercase letters.\n",
    "# 2. The Password should contain at least a number and three special characters.\n",
    "# 3. The length of the password should be 10 characters long."
   ]
  },
  {
   "cell_type": "code",
   "execution_count": 38,
   "id": "cf438285-6f8c-40a1-8844-2b31cea9b39f",
   "metadata": {},
   "outputs": [
    {
     "name": "stdout",
     "output_type": "stream",
     "text": [
      "Valid Password\n"
     ]
    }
   ],
   "source": [
    "\n",
    "import string\n",
    "\n",
    "\n",
    "def check_password(password):\n",
    "    if len(password) >= 10 :\n",
    "        count_uppercase = 0\n",
    "        count_lowercase = 0\n",
    "        count_number = 0\n",
    "        count_special = 0\n",
    "        for word in password :\n",
    "            if word in string.ascii_uppercase:\n",
    "                count_uppercase +=1\n",
    "            elif word in string.ascii_lowercase:\n",
    "                count_lowercase +=1\n",
    "            elif word in string.punctuation:\n",
    "                count_special +=1\n",
    "            elif word in string.octdigits :\n",
    "                count_number +=1\n",
    "        if count_uppercase >= 2 and count_lowercase >= 2 and count_special >= 3 and count_number >= 1:\n",
    "            return \"Valid Password\"\n",
    "        else:\n",
    "             return \"Invalid Password\"\n",
    "    else:\n",
    "        return \"Invalid Password\"\n",
    "\n",
    "password = \"Pu1234Pushpendra@#$ff\"\n",
    "print(check_password(password))\n"
   ]
  },
  {
   "cell_type": "code",
   "execution_count": null,
   "id": "64dae562-59dd-4271-be08-4a276ce7c9c8",
   "metadata": {},
   "outputs": [],
   "source": [
    "# Q2. Solve the below-given questions using at least one of the following:\n",
    "# 1. Lambda functioJ\n",
    "# 2. Filter functioJ\n",
    "# 3. Zap functioJ\n",
    "# 4. List ComprehensioI"
   ]
  },
  {
   "cell_type": "code",
   "execution_count": 2,
   "id": "f783f88d-a7c0-40d9-9630-4ae3e97251e8",
   "metadata": {},
   "outputs": [
    {
     "name": "stdin",
     "output_type": "stream",
     "text": [
      "Enter Your string  pushpendra\n"
     ]
    },
    {
     "name": "stdout",
     "output_type": "stream",
     "text": [
      "True\n"
     ]
    }
   ],
   "source": [
    "# a. Check if the string starts with a particular letter.\n",
    "message = input(\"Enter Your string \")\n",
    "check = lambda message : True if message[0] == 'p' else False\n",
    "print(check(message))"
   ]
  },
  {
   "cell_type": "code",
   "execution_count": 16,
   "id": "bb08881a-7dcb-4a03-8355-8be5b26ffa37",
   "metadata": {},
   "outputs": [
    {
     "name": "stdin",
     "output_type": "stream",
     "text": [
      "Enter Your string 3432\n"
     ]
    },
    {
     "name": "stdout",
     "output_type": "stream",
     "text": [
      "True\n"
     ]
    }
   ],
   "source": [
    "# B Check if the string is numeric\n",
    "message = input(\"Enter Your string\")\n",
    "check = lambda message : True if message.isnumeric() else False\n",
    "print(check(message))"
   ]
  },
  {
   "cell_type": "code",
   "execution_count": 17,
   "id": "9d3510e7-c4e4-4c86-9aca-9bea4a443f3f",
   "metadata": {},
   "outputs": [
    {
     "name": "stdout",
     "output_type": "stream",
     "text": [
      "[('orange', 80), ('mango', 99), ('grapes', 1000)]\n"
     ]
    }
   ],
   "source": [
    "# C Sort a list of tuples having fruit names and their quantity. [(\"mango\",99),(\"orange\",80), (\"grapes\", 1000)-\n",
    "list1 = [(\"mango\", 99), (\"orange\", 80), (\"grapes\", 1000)]\n",
    "list1.sort(key=lambda x: x[1])\n",
    "print(list1)"
   ]
  },
  {
   "cell_type": "code",
   "execution_count": 19,
   "id": "fa0da065-4b79-42c2-a96b-87814ae0465c",
   "metadata": {},
   "outputs": [
    {
     "name": "stdout",
     "output_type": "stream",
     "text": [
      "[1, 4, 9, 16, 25, 36, 49, 64, 81, 100]\n"
     ]
    }
   ],
   "source": [
    "# D Find the squares of numbers from 1 to 10\n",
    "sq = [num**2 for num in range(1,11)]\n",
    "print(sq)"
   ]
  },
  {
   "cell_type": "code",
   "execution_count": 20,
   "id": "df738d3b-dd07-4889-9c3b-39b5c9e31353",
   "metadata": {},
   "outputs": [
    {
     "name": "stdout",
     "output_type": "stream",
     "text": [
      "[1, 8, 27, 64, 125, 216, 343, 512, 729, 1000]\n"
     ]
    }
   ],
   "source": [
    "# e. Find the cube root of numbers from 1 to 10.\n",
    "\n",
    "cube = [word**3 for word in range(1, 11)]\n",
    "print(cube)"
   ]
  },
  {
   "cell_type": "code",
   "execution_count": 30,
   "id": "44ce43aa-8e76-4cc6-a6b0-b3db3c28449f",
   "metadata": {},
   "outputs": [
    {
     "name": "stdin",
     "output_type": "stream",
     "text": [
      "Enter Your number 6\n"
     ]
    },
    {
     "name": "stdout",
     "output_type": "stream",
     "text": [
      "even\n"
     ]
    }
   ],
   "source": [
    "# f Check if a given number is evenY\n",
    "num = int(input(\"Enter Your number\"))\n",
    "check = lambda num : 'even' if num%2==0 else 'false'\n",
    "print(check(num))"
   ]
  },
  {
   "cell_type": "code",
   "execution_count": 28,
   "id": "eabacdfc-2d3a-4048-9166-c73867085fee",
   "metadata": {},
   "outputs": [
    {
     "name": "stdout",
     "output_type": "stream",
     "text": [
      "[1, 3, 5, 7, 9]\n"
     ]
    }
   ],
   "source": [
    "# g Filter odd numbers from the given list.\n",
    "l1 = [1,2,3,4,5,6,7,8,9,10]\n",
    "odd =[i for i in l1 if i % 2 != 0]\n",
    "print(odd)\n"
   ]
  },
  {
   "cell_type": "code",
   "execution_count": 29,
   "id": "4ae61ddf-d1be-4eb2-a194-b6beeb273a16",
   "metadata": {},
   "outputs": [
    {
     "name": "stdout",
     "output_type": "stream",
     "text": [
      "[1, 2, 3, 4, 5, 6]\n",
      "[-1, -2, -3, -4, -5]\n"
     ]
    }
   ],
   "source": [
    "# h Sort a list of integers into positive and negative integers lists.\n",
    "# [1,2,3,4,5,6,-1,-2,-3,-4,-5,0]\n",
    "l2 = [1,2,3,4,5,6,-1,-2,-3,-4,-5,0]\n",
    "\n",
    "positive = [i for i in l2 if i > 0 ]\n",
    "negative = [i for i in l2 if i < 0 ]\n",
    "\n",
    "print(positive)\n",
    "print(negative)\n"
   ]
  },
  {
   "cell_type": "code",
   "execution_count": null,
   "id": "bc931c87-eaeb-4f28-af01-f84419748991",
   "metadata": {},
   "outputs": [],
   "source": []
  }
 ],
 "metadata": {
  "kernelspec": {
   "display_name": "Python 3 (ipykernel)",
   "language": "python",
   "name": "python3"
  },
  "language_info": {
   "codemirror_mode": {
    "name": "ipython",
    "version": 3
   },
   "file_extension": ".py",
   "mimetype": "text/x-python",
   "name": "python",
   "nbconvert_exporter": "python",
   "pygments_lexer": "ipython3",
   "version": "3.10.8"
  }
 },
 "nbformat": 4,
 "nbformat_minor": 5
}
