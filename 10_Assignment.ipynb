{
 "cells": [
  {
   "cell_type": "code",
   "execution_count": 3,
   "id": "b3128a56-e3e2-4b36-b1bc-06fc36265f85",
   "metadata": {},
   "outputs": [],
   "source": [
    "# Q1, Create a vehicle class with an init method having instance variables as name_of_vehicle, max_speed\n",
    "# and average_of_vehicle."
   ]
  },
  {
   "cell_type": "code",
   "execution_count": 15,
   "id": "a7045743-2bdd-4509-b3ca-931b2c2bf667",
   "metadata": {},
   "outputs": [],
   "source": [
    "class vehicle:\n",
    "    def __init__(self , name , speed , avg):\n",
    "        self.name = name\n",
    "        self.speed = speed\n",
    "        self.avg = avg"
   ]
  },
  {
   "cell_type": "code",
   "execution_count": 16,
   "id": "7794da7a-a9e8-439b-8c38-997ab4eb2bf1",
   "metadata": {},
   "outputs": [],
   "source": [
    "v1 = vehicle(\"BMW\" , 360 , 125)"
   ]
  },
  {
   "cell_type": "code",
   "execution_count": 17,
   "id": "4ed403d6-3cba-4f76-b529-dc3ab2a3f2f3",
   "metadata": {},
   "outputs": [],
   "source": [
    "# Q2. Create a child class car from the vehicle class created in Que 1, which will inherit the vehicle class.\n",
    "# Create a method named seating_capacity which takes capacity as an argument and returns the name of\n",
    "# the vehicle and its seating capacity."
   ]
  },
  {
   "cell_type": "code",
   "execution_count": 18,
   "id": "bd577446-0c17-48ef-b737-cf224364240d",
   "metadata": {},
   "outputs": [],
   "source": [
    "class car(vehicle):\n",
    "    def seating(self,capacity):\n",
    "        self.capacity = capacity\n",
    "        return  self.name,self.capacity "
   ]
  },
  {
   "cell_type": "code",
   "execution_count": 25,
   "id": "5a2a29bc-c421-41d4-b331-2bc8210dceb7",
   "metadata": {},
   "outputs": [],
   "source": [
    "c1 = car(\"BMW\",95,120)"
   ]
  },
  {
   "cell_type": "code",
   "execution_count": 26,
   "id": "0998ec59-95f1-4169-ab4b-8aa362f38c26",
   "metadata": {},
   "outputs": [
    {
     "data": {
      "text/plain": [
       "('BMW', 6)"
      ]
     },
     "execution_count": 26,
     "metadata": {},
     "output_type": "execute_result"
    }
   ],
   "source": [
    "c1.seating(6)"
   ]
  },
  {
   "cell_type": "code",
   "execution_count": 39,
   "id": "0ab3e957-d8c4-43ee-810c-a7f63777783c",
   "metadata": {},
   "outputs": [],
   "source": [
    "# Q3. What is multiple inheritance? Write a python code to demonstrate multiple inheritance.\n",
    "# Ans:\n",
    "    # Multiple Inheritance is a feature of Python where a class can inherit from more than one classes.\n",
    "    \n",
    "class grand_parent:\n",
    "    def grand_message(self):\n",
    "        print(\"Grand parent message..... \")\n",
    "\n",
    "class parent:\n",
    "    def parent_message(self):\n",
    "        print(\"Parent message......\")\n",
    "        \n",
    "class child(grand_parent , parent):\n",
    "    def child_message(self):\n",
    "        print(\"child message.....\")"
   ]
  },
  {
   "cell_type": "code",
   "execution_count": 40,
   "id": "3f91c71f-5fc8-431a-a11d-3da97ae75ab6",
   "metadata": {},
   "outputs": [],
   "source": [
    "c1 = child()"
   ]
  },
  {
   "cell_type": "code",
   "execution_count": 41,
   "id": "8e1a5de2-bbcc-4503-ad0b-f53cf95504f9",
   "metadata": {},
   "outputs": [
    {
     "name": "stdout",
     "output_type": "stream",
     "text": [
      "Grand parent message..... \n",
      "Parent message......\n",
      "child message.....\n"
     ]
    }
   ],
   "source": [
    "c1.grand_message()\n",
    "c1.parent_message()\n",
    "c1.child_message()"
   ]
  },
  {
   "cell_type": "code",
   "execution_count": 42,
   "id": "5b3ff558-42a4-491d-9a13-2610db60ff05",
   "metadata": {},
   "outputs": [],
   "source": [
    "# Q4. What are getter and setter in python? Create a class and create a getter and a setter method in this\n",
    "# class."
   ]
  },
  {
   "cell_type": "code",
   "execution_count": 130,
   "id": "f6d3e246-6838-49cd-a215-e4b1eda521c4",
   "metadata": {},
   "outputs": [],
   "source": [
    "# # Ans:\n",
    "#         Getters: These are the methods used in Object-Oriented Programming (OOPS) which helps to access the private\n",
    "#                  attributes from a class. \n",
    "        \n",
    "#         Setters: These are the methods used in OOPS feature which helps to set the value to private attributes in a class.\n",
    "\n",
    "class employee :\n",
    "    def __init__(self,name , salary):\n",
    "        self.name = name\n",
    "        self.__salary = salary\n",
    "    \n",
    "    @property\n",
    "    def show_salary(self):\n",
    "        return self.__salary\n",
    "    \n",
    "    @show_salary.setter\n",
    "    def set_salary(self,salary):\n",
    "        self.__salary = salary\n",
    "        \n",
    "    @show_salary.getter\n",
    "    def printing(self):\n",
    "        print(self.name)\n",
    "        print(self.__salary)\n",
    "        \n",
    "    "
   ]
  },
  {
   "cell_type": "code",
   "execution_count": 131,
   "id": "6630c2d3-a9a3-4a21-aea8-8e81254989d5",
   "metadata": {},
   "outputs": [],
   "source": [
    "emp1 = employee(\"Pushpedra\",20000)"
   ]
  },
  {
   "cell_type": "code",
   "execution_count": 132,
   "id": "fd7f1bcd-b78a-4a06-8b7a-9707a9859840",
   "metadata": {},
   "outputs": [
    {
     "data": {
      "text/plain": [
       "'Pushpedra'"
      ]
     },
     "execution_count": 132,
     "metadata": {},
     "output_type": "execute_result"
    }
   ],
   "source": [
    "emp1.name"
   ]
  },
  {
   "cell_type": "code",
   "execution_count": 133,
   "id": "7a8d79d3-a014-42d7-9676-60bada91be10",
   "metadata": {},
   "outputs": [
    {
     "data": {
      "text/plain": [
       "20000"
      ]
     },
     "execution_count": 133,
     "metadata": {},
     "output_type": "execute_result"
    }
   ],
   "source": [
    "emp1.show_salary"
   ]
  },
  {
   "cell_type": "code",
   "execution_count": 134,
   "id": "342ac41c-133a-494e-b6da-38c2815e9bcd",
   "metadata": {},
   "outputs": [],
   "source": [
    "emp1.set_salary = 450000"
   ]
  },
  {
   "cell_type": "code",
   "execution_count": 135,
   "id": "8a0c3d44-9d43-42dd-a411-555e87f41d16",
   "metadata": {},
   "outputs": [
    {
     "data": {
      "text/plain": [
       "450000"
      ]
     },
     "execution_count": 135,
     "metadata": {},
     "output_type": "execute_result"
    }
   ],
   "source": [
    "emp1.show_salary"
   ]
  },
  {
   "cell_type": "code",
   "execution_count": 136,
   "id": "9fd98eca-1409-4b30-951f-6fde8cd616aa",
   "metadata": {},
   "outputs": [
    {
     "name": "stdout",
     "output_type": "stream",
     "text": [
      "Pushpedra\n",
      "450000\n"
     ]
    }
   ],
   "source": [
    "emp1.printing"
   ]
  },
  {
   "cell_type": "code",
   "execution_count": null,
   "id": "b4e3f123-416a-48f5-898d-75e183687b4b",
   "metadata": {},
   "outputs": [],
   "source": [
    "# Q5.What is method overriding in python? Write a python code to demonstrate method overriding.\n"
   ]
  },
  {
   "cell_type": "code",
   "execution_count": 19,
   "id": "59357657-339b-496e-beea-cddef521ced4",
   "metadata": {},
   "outputs": [],
   "source": [
    "# Ans:\n",
    "#     Method overriding is an ability of any object-oriented programming language that allows\n",
    "#     a subclass or child class to provide a specific implementation of a method that is already\n",
    "#     provided by one of its super-classes or parent classes.\n",
    "\n",
    "\n",
    "class thor :\n",
    "    def power(self):\n",
    "        print(\"God of thunder\")\n",
    "        \n",
    "class ironman(thor):\n",
    "    def power(self):\n",
    "        super().power()\n",
    "        print(\"I am ironman\")"
   ]
  },
  {
   "cell_type": "code",
   "execution_count": 20,
   "id": "745b5cee-0fcc-4bec-964b-255e0d7a196a",
   "metadata": {},
   "outputs": [],
   "source": [
    "jarvis = ironman()"
   ]
  },
  {
   "cell_type": "code",
   "execution_count": 21,
   "id": "1b358747-c010-4721-93d9-7b43b0c55031",
   "metadata": {},
   "outputs": [
    {
     "name": "stdout",
     "output_type": "stream",
     "text": [
      "God of thunder\n",
      "I am ironman\n"
     ]
    }
   ],
   "source": [
    "jarvis.power()"
   ]
  }
 ],
 "metadata": {
  "kernelspec": {
   "display_name": "Python 3 (ipykernel)",
   "language": "python",
   "name": "python3"
  },
  "language_info": {
   "codemirror_mode": {
    "name": "ipython",
    "version": 3
   },
   "file_extension": ".py",
   "mimetype": "text/x-python",
   "name": "python",
   "nbconvert_exporter": "python",
   "pygments_lexer": "ipython3",
   "version": "3.10.8"
  }
 },
 "nbformat": 4,
 "nbformat_minor": 5
}
