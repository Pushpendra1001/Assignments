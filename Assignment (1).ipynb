{
 "cells": [
  {
   "cell_type": "code",
   "execution_count": 21,
   "id": "93ac56a6-477d-4f2a-92b6-66512e341e44",
   "metadata": {},
   "outputs": [],
   "source": [
    "# Assignment 1\n"
   ]
  },
  {
   "cell_type": "code",
   "execution_count": 22,
   "id": "89387c4f-ae61-4422-bb06-8ddf7cafad61",
   "metadata": {},
   "outputs": [],
   "source": [
    "# Q1 who developed Python Programming Language ?\n",
    "# Ans : Guido van Rossum"
   ]
  },
  {
   "cell_type": "code",
   "execution_count": 4,
   "id": "16bf3c5e-bdd4-4e98-9a8f-1d4c87838651",
   "metadata": {},
   "outputs": [],
   "source": [
    "# Q2 which type of programming does python support ?\n",
    "# Ans : Python support object-oriented programming , structured programming and functional programming"
   ]
  },
  {
   "cell_type": "code",
   "execution_count": 5,
   "id": "cc2d72df-d7e6-457c-bc7b-f8672bb66c3d",
   "metadata": {},
   "outputs": [],
   "source": [
    "# Q3 is Python case sensitive when dealing with identifiers ?\n",
    "# Ans : Yes Python is case sensitive language "
   ]
  },
  {
   "cell_type": "code",
   "execution_count": 6,
   "id": "b6b37033-1fc3-42af-9bbe-79ec49299685",
   "metadata": {},
   "outputs": [],
   "source": [
    "# Q4 What is the correct extension of the Python File ?\n",
    "# Ans : For Python file .py extension use "
   ]
  },
  {
   "cell_type": "code",
   "execution_count": 7,
   "id": "8afd57ac-a529-4b95-b793-bb639803d1b9",
   "metadata": {},
   "outputs": [],
   "source": [
    "# Q5 is Python code compiled or interpredted ?\n",
    "# Ans : Python is interpreted language "
   ]
  },
  {
   "cell_type": "code",
   "execution_count": 8,
   "id": "19cc9dc5-5fbf-4d62-8011-8559214324e1",
   "metadata": {},
   "outputs": [],
   "source": [
    "# Q6 Name a few block of code used to define in Python Language ?\n",
    "# Ans : Indentation used to define a block of code"
   ]
  },
  {
   "cell_type": "code",
   "execution_count": 10,
   "id": "da4cefb3-34cd-4bfb-bcc2-785696a426b1",
   "metadata": {},
   "outputs": [],
   "source": [
    "# Q7 State a character used to give single-line comments in Python ?\n",
    "# Ans : hash # is used to give single line comment "
   ]
  },
  {
   "cell_type": "code",
   "execution_count": 11,
   "id": "d27b0848-bed9-4459-9926-39fa586b02ba",
   "metadata": {},
   "outputs": [],
   "source": [
    "# Q8 Mention functions which can help us to find the version of python that we are currently working on ?\n",
    "# Ans : sys.version used to find the version of python that we are using "
   ]
  },
  {
   "cell_type": "code",
   "execution_count": 12,
   "id": "a3877c86-41fa-4307-97ea-cdbe35c94e54",
   "metadata": {},
   "outputs": [],
   "source": [
    "# Q9 Python Supports the creation of anonymous function at at runtime, using a construct called\n",
    "# Ans : Lambda "
   ]
  },
  {
   "cell_type": "code",
   "execution_count": 13,
   "id": "1a008afe-3c95-418f-bfdb-d8cbfc6dd48a",
   "metadata": {},
   "outputs": [],
   "source": [
    "# Q10 what does pip stand for python ?\n",
    "# Ans : pip is used to install , uninstall packages it is used in command line . Pip is also known as package manager for python\n",
    "#       pip( preferred installer program )"
   ]
  },
  {
   "cell_type": "code",
   "execution_count": 14,
   "id": "edf13e91-be35-41a7-b5bc-7212ba3d4ef0",
   "metadata": {},
   "outputs": [],
   "source": [
    "# Q11 Mention a few build-in functions in python ?\n",
    "# Ans : print() , bool() , dict() , input() , min() , max(), pow() , slice() , str() , type() \n",
    "#       These are some build in functions in Python "
   ]
  },
  {
   "cell_type": "code",
   "execution_count": 16,
   "id": "b72e30ed-3a96-480a-9555-f8f95eb8c04e",
   "metadata": {},
   "outputs": [],
   "source": [
    "# Q12 What is the maximum possible length of an identifier in Python ?\n",
    "# Ans : In python Maximum length of characters is 79\n"
   ]
  },
  {
   "cell_type": "code",
   "execution_count": 17,
   "id": "a7c170dd-1d11-4517-ac4f-03216ee382a4",
   "metadata": {},
   "outputs": [],
   "source": [
    "# Q13 What are the benifites of using python ?\n",
    "# Ans : Python is easy to learn as well as python is robust language which is used in large scale of industry There are different domains\n",
    "#       where python is used like\n",
    "#       Python is used in :\n",
    "#         1 Data Science\n",
    "#         2 Web development\n",
    "#         3 App development\n",
    "#         4 Cyber Security / Hacking\n",
    "#         5 AI\n",
    "#         6 Game development \n",
    "#         7 Data Analysis\n",
    "      \n",
    "#         or Python have large number of library with the help of python libraries we can build many project's one of the features is large\n",
    "#         library so people love python \n",
    "        \n",
    "        "
   ]
  },
  {
   "cell_type": "code",
   "execution_count": 18,
   "id": "ffcc354b-f58d-499a-93f9-7e6c293778de",
   "metadata": {},
   "outputs": [],
   "source": [
    "# Q14 How is Memory Managed in Python ?\n",
    "# Ans : python uses python private heap space to manage memory in python "
   ]
  },
  {
   "cell_type": "code",
   "execution_count": 20,
   "id": "b4529f40-b3fa-4190-98f1-39c318d2132d",
   "metadata": {},
   "outputs": [],
   "source": [
    "# Q15 How to install Python on windows and set path variables ?\n",
    "# Ans : install latest version of python then install it , go to Environment varaibles and set add path where python is install "
   ]
  },
  {
   "cell_type": "code",
   "execution_count": null,
   "id": "67d1f4ee-cb40-4393-a8df-83c0358507d7",
   "metadata": {},
   "outputs": [],
   "source": [
    "# Q16 Is indentation required in python ?\n",
    "# Ans : indentation is  used to define block of code if we only write small code like print or any small operation on operater's so there is no \n",
    "#       requirement of indentation to run python file but when we are build some large program use if , else , for loops etc then indentation play\n",
    "#       important role i think without indentation we can't build our program or software so yes indentation is very important "
   ]
  }
 ],
 "metadata": {
  "kernelspec": {
   "display_name": "Python 3 (ipykernel)",
   "language": "python",
   "name": "python3"
  },
  "language_info": {
   "codemirror_mode": {
    "name": "ipython",
    "version": 3
   },
   "file_extension": ".py",
   "mimetype": "text/x-python",
   "name": "python",
   "nbconvert_exporter": "python",
   "pygments_lexer": "ipython3",
   "version": "3.10.8"
  }
 },
 "nbformat": 4,
 "nbformat_minor": 5
}
