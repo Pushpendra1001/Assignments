{
 "cells": [
  {
   "cell_type": "code",
   "execution_count": 1,
   "id": "079199f7-521c-46cd-a0e7-cc9907893d24",
   "metadata": {},
   "outputs": [],
   "source": [
    "# Q1. Which function is used to open a file? What are the different modes of opening a file? Explain each mode\n",
    "# of file opening."
   ]
  },
  {
   "cell_type": "code",
   "execution_count": null,
   "id": "b2654a25-4c1c-46d7-93b5-3faddfd22fb1",
   "metadata": {},
   "outputs": [],
   "source": [
    "Ans:\n",
    "    In Python, the open() function is used to open a file. The open() function takes two\n",
    "    parameters: the first parameter is the file name and the second parameter is the mode\n",
    "    in which we want to open the file.\n",
    "    \n",
    "    1 'r' = In this mode, we only can read the contents of the file, but you cannot modify it.\n",
    "    2 'w' = In this mode, we can read or modify the content \n",
    "    3 'rb' = read binary mode in this mode we can read the data which is written in bytes\n",
    "    \n",
    "    file = open(\"text1.txt\", \"w\")\n",
    "    file = open(\"text2.txt\", 'r')\n",
    "    file = open(\"text3.txt\", 'rb')\n",
    "\n",
    "    \n",
    "    f = open(\"text1.txt\" , 'r')\n",
    "    info = f.read()\n",
    "    print(info)\n",
    "    f.close()\n",
    "    \n",
    "    f = open(\"text2.txt\", \"w\")\n",
    "    f.write(\"Thor God of thunder\")\n",
    "    f.close()\n"
   ]
  },
  {
   "cell_type": "code",
   "execution_count": null,
   "id": "839b0c29-6a33-41f3-9183-3cbc0eee26fc",
   "metadata": {},
   "outputs": [],
   "source": [
    "# Q2. Why close() function is used? Why is it important to close a file?"
   ]
  },
  {
   "cell_type": "code",
   "execution_count": null,
   "id": "2f63fb51-0a86-4586-a012-f73f6fa72b80",
   "metadata": {},
   "outputs": [],
   "source": [
    "Ans :\n",
    "    The close() function is used to close a file after reading or writing data.\n",
    "    It is important to close a file because it releases the system resources that\n",
    "    were being used to keep the file open. If we don't close() the function then \n",
    "    it may be create some error's or difficulties to open another file "
   ]
  },
  {
   "cell_type": "code",
   "execution_count": null,
   "id": "be80865e-21fe-4172-ae40-3eac8cc52663",
   "metadata": {},
   "outputs": [],
   "source": [
    "# Q3. Write a python program to create a text file. Write ‘I want to become a Data Scientist’ in that file. Then\n",
    "# close the file. Open this file and read the content of the file."
   ]
  },
  {
   "cell_type": "code",
   "execution_count": 6,
   "id": "d17eaaaf-b4d2-406a-b94f-342ab8671596",
   "metadata": {},
   "outputs": [],
   "source": [
    "\n",
    "f = open(\"text.txt\" , 'w')\n",
    "f.write('I want to become a Data Scientist')\n",
    "f.close()\n",
    "\n"
   ]
  },
  {
   "cell_type": "code",
   "execution_count": 9,
   "id": "d21443ca-3566-4ac5-8df4-bf30c28005ae",
   "metadata": {},
   "outputs": [
    {
     "data": {
      "text/plain": [
       "'I want to become a Data Scientist'"
      ]
     },
     "execution_count": 9,
     "metadata": {},
     "output_type": "execute_result"
    }
   ],
   "source": [
    "f = open(\"text.txt\" , 'r')\n",
    "f.read()\n"
   ]
  },
  {
   "cell_type": "code",
   "execution_count": 10,
   "id": "cae215a7-46c4-41b4-b8c1-771f48bb38a9",
   "metadata": {},
   "outputs": [],
   "source": [
    "# Q4. Explain the following with python code: read(), readline() and readlines().\n",
    "Ans :\n",
    "    \n",
    "    1 read(): This method reads the entire contents of a file as a string\n",
    "    \n",
    "    2 readline(): This method reads a single line from a file as a string. \n",
    "                  If the end of the file is reached, an empty string is \n",
    "                  returned.\n",
    "            \n",
    "    3 readlines(): This method reads all the lines from a file into a list \n",
    "                    of strings. Each string in the list represents a single line\n",
    "                    , and the list is ordered according to the order of the lines\n",
    "                    in the file.\n",
    "    "
   ]
  },
  {
   "cell_type": "code",
   "execution_count": 55,
   "id": "d08bf814-bdaf-4221-a278-9b837551494a",
   "metadata": {},
   "outputs": [
    {
     "data": {
      "text/plain": [
       "308"
      ]
     },
     "execution_count": 55,
     "metadata": {},
     "output_type": "execute_result"
    }
   ],
   "source": [
    "f = open(\"text.txt\" , 'w')\n",
    "f.write(\"np'The close() function is used to close a file after reading or writing data. \\n \"\n",
    "        \"It is important to close a file because it releases the system resources thatwere being \\n\"\n",
    "        \"used to keep the file open. If we don't close() the function then it may be create some\\n error's\"\n",
    "        \"or difficulties to open another file ' ok \")"
   ]
  },
  {
   "cell_type": "code",
   "execution_count": 56,
   "id": "6cea75bc-adb9-41b5-975c-6a6d6236a878",
   "metadata": {},
   "outputs": [
    {
     "data": {
      "text/plain": [
       "\"np'The close() function is used to close a file after reading or writing data. \\n It is important to close a file because it releases the system resources thatwere being \\nused to keep the file open. If we don't close() the function then it may be create some\\n error'sor difficulties to open another file ' ok \""
      ]
     },
     "execution_count": 56,
     "metadata": {},
     "output_type": "execute_result"
    }
   ],
   "source": [
    "f = open(\"text.txt\" , 'r')\n",
    "f.read()"
   ]
  },
  {
   "cell_type": "code",
   "execution_count": 57,
   "id": "75391ab0-79bf-4a03-9a0f-49936087b4c6",
   "metadata": {},
   "outputs": [
    {
     "data": {
      "text/plain": [
       "''"
      ]
     },
     "execution_count": 57,
     "metadata": {},
     "output_type": "execute_result"
    }
   ],
   "source": [
    "f.readline()"
   ]
  },
  {
   "cell_type": "code",
   "execution_count": 58,
   "id": "a00e4d22-d03b-4744-baec-7a2414fe8f6d",
   "metadata": {},
   "outputs": [
    {
     "data": {
      "text/plain": [
       "0"
      ]
     },
     "execution_count": 58,
     "metadata": {},
     "output_type": "execute_result"
    }
   ],
   "source": [
    "f.seek(0)"
   ]
  },
  {
   "cell_type": "code",
   "execution_count": 59,
   "id": "01663d66-21a8-4d8a-8425-c5a1d1c45c97",
   "metadata": {},
   "outputs": [
    {
     "data": {
      "text/plain": [
       "\"np'The close() function is used to close a file after reading or writing data. \\n\""
      ]
     },
     "execution_count": 59,
     "metadata": {},
     "output_type": "execute_result"
    }
   ],
   "source": [
    "f.readline()"
   ]
  },
  {
   "cell_type": "code",
   "execution_count": 60,
   "id": "5846adc4-331d-4caf-8022-5ebe2afce822",
   "metadata": {},
   "outputs": [
    {
     "data": {
      "text/plain": [
       "0"
      ]
     },
     "execution_count": 60,
     "metadata": {},
     "output_type": "execute_result"
    }
   ],
   "source": [
    "f.seek(0)"
   ]
  },
  {
   "cell_type": "code",
   "execution_count": 61,
   "id": "06979427-3dc5-4094-9bf7-4646c69a890f",
   "metadata": {},
   "outputs": [
    {
     "data": {
      "text/plain": [
       "[\"np'The close() function is used to close a file after reading or writing data. \\n\",\n",
       " ' It is important to close a file because it releases the system resources thatwere being \\n',\n",
       " \"used to keep the file open. If we don't close() the function then it may be create some\\n\",\n",
       " \" error'sor difficulties to open another file ' ok \"]"
      ]
     },
     "execution_count": 61,
     "metadata": {},
     "output_type": "execute_result"
    }
   ],
   "source": [
    "f.readlines()"
   ]
  },
  {
   "cell_type": "code",
   "execution_count": null,
   "id": "dd70d706-25c2-4d46-8c08-4e10de138b85",
   "metadata": {},
   "outputs": [],
   "source": [
    "# Q5. Explain why with statement is used with open(). What is the advantage of using with statement and\n",
    "# open() together?"
   ]
  },
  {
   "cell_type": "code",
   "execution_count": null,
   "id": "8dc16ae6-6444-42f6-9207-bbbcf655233c",
   "metadata": {},
   "outputs": [],
   "source": [
    "# Ans:\n",
    "#     The with statement ensures that the file is automatically closed after the block of code\n",
    "#     that uses the file has finished executing\n",
    "    \n",
    "#     The main advantage of using the with statement and open() together is that it simplifies \n",
    "#     the code for file I/O operations and ensures that the file is properly closed. It eliminates \n",
    "#     the need to manually call the close() method .\n",
    "    \n",
    "   \n",
    "    with open(\"text.txt\", \"r\") as file:\n",
    "    f = file.read()\n",
    "    print(f)\n"
   ]
  },
  {
   "cell_type": "code",
   "execution_count": null,
   "id": "df26539a-0c0d-42f0-a4d1-8f165f7bb199",
   "metadata": {},
   "outputs": [],
   "source": [
    "# Q6. Explain the write() and writelines() functions. Give a suitable example."
   ]
  },
  {
   "cell_type": "code",
   "execution_count": 72,
   "id": "d5ec80fe-52c0-44fe-8933-796761972404",
   "metadata": {},
   "outputs": [],
   "source": [
    "# Ans:\n",
    "#     1 write(): This method writes a string to a file. It takes a single argument.\n",
    "#     2 writelines(): This method writes a list of strings to a file. Each string in \n",
    "#       the list represents a single line\n",
    "\n",
    "f = open(\"text1.txt\", \"w\")\n",
    "f.write(\"Thor God of thunder.\")\n",
    "f.write(\"Iam Ironman.\")\n",
    "f.close()\n",
    "\n",
    "    "
   ]
  },
  {
   "cell_type": "code",
   "execution_count": 73,
   "id": "a02b4d39-5cf1-4ced-a4e1-b06be61d12c4",
   "metadata": {},
   "outputs": [
    {
     "data": {
      "text/plain": [
       "'Thor God of thunder.Iam Ironman.'"
      ]
     },
     "execution_count": 73,
     "metadata": {},
     "output_type": "execute_result"
    }
   ],
   "source": [
    "f = open(\"text1.txt\" , 'r')\n",
    "f.read()"
   ]
  },
  {
   "cell_type": "code",
   "execution_count": 75,
   "id": "23c2ba7f-50cf-45a5-bf61-310c90b64ca4",
   "metadata": {},
   "outputs": [],
   "source": [
    "multilines = [\"ironman is ironman\", \"Captain america\"]\n",
    "f = open(\"text2.txt\", \"w\")\n",
    "f.writelines(multilines)\n",
    "f.close()\n"
   ]
  },
  {
   "cell_type": "code",
   "execution_count": 76,
   "id": "83ab5b90-fe39-44df-aa87-6662400a803d",
   "metadata": {},
   "outputs": [
    {
     "data": {
      "text/plain": [
       "'ironman is ironmanCaptain america'"
      ]
     },
     "execution_count": 76,
     "metadata": {},
     "output_type": "execute_result"
    }
   ],
   "source": [
    "f = open(\"text2.txt\" , 'r')\n",
    "f.read()"
   ]
  },
  {
   "cell_type": "code",
   "execution_count": null,
   "id": "658897de-f105-4794-bef3-f970cb259bd2",
   "metadata": {},
   "outputs": [],
   "source": []
  }
 ],
 "metadata": {
  "kernelspec": {
   "display_name": "Python 3 (ipykernel)",
   "language": "python",
   "name": "python3"
  },
  "language_info": {
   "codemirror_mode": {
    "name": "ipython",
    "version": 3
   },
   "file_extension": ".py",
   "mimetype": "text/x-python",
   "name": "python",
   "nbconvert_exporter": "python",
   "pygments_lexer": "ipython3",
   "version": "3.10.8"
  }
 },
 "nbformat": 4,
 "nbformat_minor": 5
}
