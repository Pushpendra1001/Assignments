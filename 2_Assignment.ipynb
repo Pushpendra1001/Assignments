{
 "cells": [
  {
   "cell_type": "code",
   "execution_count": 1,
   "id": "fb86bc95-27fe-4b66-824c-149e008eade1",
   "metadata": {},
   "outputs": [
    {
     "name": "stdout",
     "output_type": "stream",
     "text": [
      "hi\n"
     ]
    }
   ],
   "source": [
    "print(\"hi\")"
   ]
  },
  {
   "cell_type": "code",
   "execution_count": 9,
   "id": "83ea11c8-9431-499c-b9fc-4f049d234346",
   "metadata": {},
   "outputs": [
    {
     "name": "stdin",
     "output_type": "stream",
     "text": [
      "Enter Your percentage  62\n"
     ]
    },
    {
     "name": "stdout",
     "output_type": "stream",
     "text": [
      "C\n"
     ]
    }
   ],
   "source": [
    "# Q1 Write a program to accept percentage from the user and \n",
    "# display the grade according to the following criteria :\n",
    "# Ans : \n",
    "per = float(input(\"Enter Your percentage \"))\n",
    "if per > 90 :\n",
    "    print(\"A\")\n",
    "elif per > 80 and per <=90 :\n",
    "    print(\"B\")\n",
    "elif per >=60 and per <=80 :\n",
    "    print(\"C\")\n",
    "else :\n",
    "    print(\"D\")"
   ]
  },
  {
   "cell_type": "code",
   "execution_count": 6,
   "id": "94c83451-8ed0-48c5-9ab0-025d2f545148",
   "metadata": {},
   "outputs": [
    {
     "name": "stdin",
     "output_type": "stream",
     "text": [
      "Enter Price of bike  120000\n"
     ]
    },
    {
     "name": "stdout",
     "output_type": "stream",
     "text": [
      "The tax need to pay  18000.0\n"
     ]
    }
   ],
   "source": [
    "# Q2 write a program to accept the cost price of a bike and display \n",
    "# the road tax to be paid according to the following criteria :\n",
    "# Ans :\n",
    "price = int(input(\"Enter Price of bike \"))\n",
    "if price > 100000 :\n",
    "    tax = price * 15 /100\n",
    "    print(\"The tax need to pay \",tax)\n",
    "elif price > 50000 and price <= 100000:\n",
    "    tax = price * 10 /100\n",
    "    print(\"The tax need to pay \",tax)\n",
    "else :\n",
    "    tax = price * 5 / 100 \n",
    "    print(\"The tax need to pay \",tax)"
   ]
  },
  {
   "cell_type": "code",
   "execution_count": 22,
   "id": "2b849c90-b6e2-412d-be72-8580b42e7178",
   "metadata": {},
   "outputs": [
    {
     "name": "stdin",
     "output_type": "stream",
     "text": [
      "Enter Your city Name  Agra\n"
     ]
    },
    {
     "name": "stdout",
     "output_type": "stream",
     "text": [
      "Taj, Mahal\n"
     ]
    }
   ],
   "source": [
    "# Q3 Accept any city from the user and diplay monuments of that city \n",
    "# Ans\n",
    "city_name = input(\"Enter Your city Name \" ).lower()\n",
    "# city_name = city_name.lower()\n",
    "if city_name == 'delhi':\n",
    "    print('Red Fort')\n",
    "elif city_name == 'agra':\n",
    "    print('Taj, Mahal')\n",
    "elif city_name == 'jaipur':\n",
    "    print('Jal Mahal')"
   ]
  },
  {
   "cell_type": "code",
   "execution_count": 35,
   "id": "561a3df1-3285-4b8e-a951-e97e38253943",
   "metadata": {},
   "outputs": [
    {
     "name": "stdin",
     "output_type": "stream",
     "text": [
      "Enter Number 1000\n"
     ]
    },
    {
     "name": "stdout",
     "output_type": "stream",
     "text": [
      "Total Number of Times divide by Three is : 5\n"
     ]
    }
   ],
   "source": [
    "# Q4 Check how many times a given number can be divided by 3 before \n",
    "# it is less than or equal to 10\n",
    "# Ans :\n",
    "n = int(input(\"Enter Number\"))\n",
    "count = 0\n",
    "while n >= 10:\n",
    "    n = n/ 3\n",
    "    count = count + 1\n",
    "print(\"Total Number of Times divide by Three is :\",count)    "
   ]
  },
  {
   "cell_type": "code",
   "execution_count": 40,
   "id": "dfdfb2f8-fedb-4b48-b423-f24b34076663",
   "metadata": {},
   "outputs": [
    {
     "name": "stdout",
     "output_type": "stream",
     "text": [
      "1\n",
      "2\n",
      "3\n",
      "4\n",
      "5\n",
      "6\n",
      "7\n",
      "8\n",
      "9\n",
      "10\n"
     ]
    }
   ],
   "source": [
    "# Q5 why and when to use while loop in python give a detailed\n",
    "# description with example\n",
    "# Ans: While loop is work same as for loop but when we don't \n",
    "       # know how many time loop will run then we use while loop\n",
    "       # where we fix a certain condtion and according to that condtion\n",
    "       #  loop run till the condition become true if the condition\n",
    "       #  is not become true the loop goes to infinite \n",
    "# syntax :\n",
    "#  while condition :\n",
    "#        statements\n",
    "#        increment / decrement \n",
    "\n",
    "# example :\n",
    "number = 1\n",
    "while number <= 10 :\n",
    "    print(number)\n",
    "    number +=1"
   ]
  },
  {
   "cell_type": "code",
   "execution_count": 19,
   "id": "a73dff30-0d1e-4347-88ca-be62e591e0d3",
   "metadata": {},
   "outputs": [
    {
     "name": "stdout",
     "output_type": "stream",
     "text": [
      "* \n",
      "* * \n",
      "* * * \n",
      "* * * * \n",
      "* * * * * \n"
     ]
    }
   ],
   "source": [
    "# Q6 use nested while loop to print 3 different pattern\n",
    "# Ans\n",
    "i = 1\n",
    "while i <= 5 :\n",
    "    j = 1\n",
    "    while j <= i :\n",
    "        print(\"*\", end = \" \")\n",
    "        j +=1\n",
    "    print()\n",
    "    i+=1\n"
   ]
  },
  {
   "cell_type": "code",
   "execution_count": 23,
   "id": "71064be9-8977-4a3a-9df4-651330577936",
   "metadata": {},
   "outputs": [
    {
     "name": "stdout",
     "output_type": "stream",
     "text": [
      "* * * * * \n",
      "* * * * \n",
      "* * * \n",
      "* * \n",
      "* \n"
     ]
    }
   ],
   "source": [
    "i = 1\n",
    "while i<=5 :\n",
    "    j =5\n",
    "    while j>=i :\n",
    "        print(\"*\", end = \" \" )\n",
    "        j -=1\n",
    "    print()\n",
    "    i+=1"
   ]
  },
  {
   "cell_type": "code",
   "execution_count": 27,
   "id": "00c7247c-d7be-43ed-932c-66dd69ff020e",
   "metadata": {},
   "outputs": [
    {
     "name": "stdout",
     "output_type": "stream",
     "text": [
      "1 \n",
      "1 2 \n",
      "1 2 3 \n",
      "1 2 3 4 \n",
      "1 2 3 4 5 \n"
     ]
    }
   ],
   "source": [
    "i = 1\n",
    "while i <= 5 :\n",
    "    j = 1\n",
    "    while j <= i :\n",
    "        print(j, end = \" \")\n",
    "        j +=1\n",
    "    print()\n",
    "    i+=1"
   ]
  },
  {
   "cell_type": "code",
   "execution_count": 5,
   "id": "6d58f2b8-354d-4242-be25-940daa8920db",
   "metadata": {},
   "outputs": [
    {
     "name": "stdout",
     "output_type": "stream",
     "text": [
      "10\n",
      "9\n",
      "8\n",
      "7\n",
      "6\n",
      "5\n",
      "4\n",
      "3\n",
      "2\n",
      "1\n"
     ]
    }
   ],
   "source": [
    "# Q7,Q8 Reverse a while loop to display number from 10 to 1\n",
    "# Ans :\n",
    "i = 10\n",
    "while i >= 1:\n",
    "    print(i)\n",
    "    i -=1"
   ]
  },
  {
   "cell_type": "code",
   "execution_count": null,
   "id": "e712aa86-2182-4e20-b726-1a57a2979d7b",
   "metadata": {},
   "outputs": [],
   "source": []
  },
  {
   "cell_type": "code",
   "execution_count": null,
   "id": "40a1042d-1af7-4b36-a86e-030078b5a7a7",
   "metadata": {},
   "outputs": [],
   "source": []
  }
 ],
 "metadata": {
  "kernelspec": {
   "display_name": "Python 3 (ipykernel)",
   "language": "python",
   "name": "python3"
  },
  "language_info": {
   "codemirror_mode": {
    "name": "ipython",
    "version": 3
   },
   "file_extension": ".py",
   "mimetype": "text/x-python",
   "name": "python",
   "nbconvert_exporter": "python",
   "pygments_lexer": "ipython3",
   "version": "3.10.8"
  }
 },
 "nbformat": 4,
 "nbformat_minor": 5
}
