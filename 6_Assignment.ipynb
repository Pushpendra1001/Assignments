{
 "cells": [
  {
   "cell_type": "code",
   "execution_count": null,
   "id": "8e03b707-3394-4ffd-ab42-18bff452a8b1",
   "metadata": {},
   "outputs": [],
   "source": [
    "# Q1. Explain Class and Object with respect to Object-Oriented Programming. Give a suitable example.\n",
    "# Ans:\n",
    "#       OOPs : OOPs refers to object oriented programing language where most of the work done \n",
    "#             using objects\n",
    "            \n",
    "#     Class : A class is a blueprint of a template to creating object \n",
    "#             which hold or show properites or behaviour of object \n",
    "#             class is created by using class keyword \n",
    "#             Example : students it is a class of students where many\n",
    "#                       different types of students there we can also \n",
    "#                       call them as an object \n",
    "                    \n",
    "#     Object : A object is real world entity which have some kind \n",
    "#             of properites or behaviours . Example :chair , pen\n",
    "        \n",
    "        # Example :\n",
    "        #     Teachers it is a class where some functionlity are same like they are teaching \n",
    "        #     They take attendence the teach a subject so a class is a collection of properites \n",
    "        #     and functionality's then in the reference of object where we talk about there \n",
    "        #     specific properties and functionality like some teacher teach different type of \n",
    "        #     subject's may be some teacher take attendence or some not so these functionality \n",
    "        #     may be differ \n",
    "        "
   ]
  },
  {
   "cell_type": "code",
   "execution_count": null,
   "id": "7bcf27df-e3ec-4b5f-9f13-31e3c7cb8233",
   "metadata": {},
   "outputs": [],
   "source": [
    "# Q2 Q2. Name the four pillars of OOPs.\n",
    "# Ans:\n",
    "#     1. Encapsulation\n",
    "#     2. Inheritence\n",
    "#     3. Abstraction\n",
    "#     4. Polymorphishm\n",
    "    \n",
    "#     These are four pillars of OOPs programing language "
   ]
  },
  {
   "cell_type": "code",
   "execution_count": 5,
   "id": "e91e87d4-466d-4783-95a6-0100faac5ca3",
   "metadata": {},
   "outputs": [
    {
     "name": "stdout",
     "output_type": "stream",
     "text": [
      "101\n",
      "Pushpendra\n"
     ]
    }
   ],
   "source": [
    "# Q3. Explain why the __init__() function is used. Give a suitable example.\n",
    "# Ans :\n",
    "#      __init__() : All classes have a function called __init__(), which is always executed when the class is being initiated\n",
    "#                   Use the __init__() function to assign values to object properties . __init__() function is also known as \n",
    "#                   constructor \n",
    "#                   The task of constructors is to initialize(assign values) to the data members of the class when an object \n",
    "#                   of the class is created\n",
    "                \n",
    "    # example\n",
    "   \n",
    "class Student:\n",
    "    def __init__(self,roll,name):\n",
    "        self.roll = roll\n",
    "        self.name = name\n",
    "                \n",
    "st1 = Student(101,\"Pushpendra\")\n",
    "print(st1.roll)\n",
    "print(st1.name)\n",
    "\n"
   ]
  },
  {
   "cell_type": "code",
   "execution_count": 7,
   "id": "be84626e-d586-4822-bb51-1dd76ac2dde9",
   "metadata": {},
   "outputs": [],
   "source": [
    "# Q4 Why self is used in OOPs ?\n",
    "# Ans :\n",
    "#     Self is used to refer Instance of the class \n",
    "#     by using self we can access attributes and methods\n",
    "#     of the object within the class \n",
    "     "
   ]
  },
  {
   "cell_type": "code",
   "execution_count": 11,
   "id": "a0ae0580-44e8-4377-bd9b-ee427771fa7a",
   "metadata": {},
   "outputs": [],
   "source": [
    "# # Q5. What is inheritance? Give an example for each type of inheritance.\n",
    "# Ans :\n",
    "#     Inheritance : it is special property of oops and one of the four \n",
    "#                  pillar of OOPs . by using Inheritance we can inherit all the \n",
    "#                  properties of his parent class or base class\n",
    "#                  it also can extend or modify \n",
    "#                 Advantages : Make resulability of code \n",
    "            \n",
    "#                 There are five types of inheritance in Python\n",
    "#                 1 single inheritance\n",
    "#                 2 multiple inheritance\n",
    "#                 3 Multilevel inheritance\n",
    "#                 4 Hieracrchical inheritance\n",
    "#                 5 Hybrid inheritance\n",
    "                "
   ]
  },
  {
   "cell_type": "code",
   "execution_count": null,
   "id": "9a0c380e-ee22-448f-b219-661dcc9d49d7",
   "metadata": {},
   "outputs": [],
   "source": []
  }
 ],
 "metadata": {
  "kernelspec": {
   "display_name": "Python 3 (ipykernel)",
   "language": "python",
   "name": "python3"
  },
  "language_info": {
   "codemirror_mode": {
    "name": "ipython",
    "version": 3
   },
   "file_extension": ".py",
   "mimetype": "text/x-python",
   "name": "python",
   "nbconvert_exporter": "python",
   "pygments_lexer": "ipython3",
   "version": "3.10.8"
  }
 },
 "nbformat": 4,
 "nbformat_minor": 5
}
