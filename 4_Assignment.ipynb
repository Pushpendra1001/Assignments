{
 "cells": [
  {
   "cell_type": "code",
   "execution_count": 4,
   "id": "54a0381b-bc11-42ec-aac6-995181c11b85",
   "metadata": {},
   "outputs": [],
   "source": [
    "# Q1. Which keyword is used to create a function? Create a function to return a list of odd numbers in the\n",
    "# range of 1 to 25.\n",
    "# Ans:\n",
    "    # def keyword is used to create a function \n",
    "    # syntax :\n",
    "        # def function_name(arguments):\n",
    "        #     block of code\n",
    "def odd():\n",
    "    for i in range(1,25):\n",
    "        if i%2!=0:\n",
    "            print(i)\n",
    "            "
   ]
  },
  {
   "cell_type": "code",
   "execution_count": 5,
   "id": "1cc31f6a-2369-48fb-a65d-b15a4fc92a7d",
   "metadata": {},
   "outputs": [
    {
     "name": "stdout",
     "output_type": "stream",
     "text": [
      "1\n",
      "3\n",
      "5\n",
      "7\n",
      "9\n",
      "11\n",
      "13\n",
      "15\n",
      "17\n",
      "19\n",
      "21\n",
      "23\n"
     ]
    }
   ],
   "source": [
    "odd()"
   ]
  },
  {
   "cell_type": "code",
   "execution_count": 7,
   "id": "be6c9f85-a4be-45a3-8c35-ed2cb3bec5d1",
   "metadata": {},
   "outputs": [],
   "source": [
    "# Q2. Why *args and **kwargs is used in some functions? Create a function each for *args and **kwargs\n",
    "# to demonstrate their use.\n",
    "# Ans:\n",
    "#     *args : These are used to pass n number of items in argument \n",
    "#             of function it is make dynamic number of argument's\n",
    "    \n",
    "#     **kwargs : There are used to pass n number of list items in \n",
    "#                 argument of function\n",
    "    \n",
    "    \n",
    "# for *args :\n",
    "\n",
    "def testing(*args):\n",
    "    return args"
   ]
  },
  {
   "cell_type": "code",
   "execution_count": 8,
   "id": "ea7dc80d-1334-4bb7-b8e1-0ec8c617a696",
   "metadata": {},
   "outputs": [
    {
     "data": {
      "text/plain": [
       "(23, 34, 34, 3434)"
      ]
     },
     "execution_count": 8,
     "metadata": {},
     "output_type": "execute_result"
    }
   ],
   "source": [
    "testing(23,34,34,3434)"
   ]
  },
  {
   "cell_type": "code",
   "execution_count": 9,
   "id": "5ea3215e-47a3-42a5-8dca-8f22cb906579",
   "metadata": {},
   "outputs": [],
   "source": [
    "# for **kwargs\n",
    "\n",
    "def testing2(**kwargs):\n",
    "    return kwargs\n"
   ]
  },
  {
   "cell_type": "code",
   "execution_count": 10,
   "id": "607e36a2-8f79-464c-a20f-ee7bee3ec4e5",
   "metadata": {},
   "outputs": [
    {
     "data": {
      "text/plain": [
       "{'name': 'pushpendra', 'age': 19}"
      ]
     },
     "execution_count": 10,
     "metadata": {},
     "output_type": "execute_result"
    }
   ],
   "source": [
    "testing2(name = \"pushpendra\" , age = 19 )"
   ]
  },
  {
   "cell_type": "code",
   "execution_count": 3,
   "id": "8d002f7c-b3d6-4afd-b9f9-c7c626f42dfb",
   "metadata": {},
   "outputs": [
    {
     "name": "stdout",
     "output_type": "stream",
     "text": [
      "2\n",
      "4\n",
      "6\n",
      "8\n",
      "10\n"
     ]
    }
   ],
   "source": [
    "# Q3 What is an iterator in python? Name the method used to initialise the iterator object and the method\n",
    "# used for iteration. Use these methods to print the first five elements of the given list [2, 4, 6, 8, 10, 12, 14,\n",
    "# 16, 18, 20].\n",
    "# # Ans\n",
    "#     An iterator is an object that contains a countable number of values \n",
    "#     A Python iterator object must implement two special methods\n",
    "#     1 __iter__()  we created an iterator from the list using the iter() method \n",
    "#     2 __next__()  this function is used for  retrieve the elements of the iterator in sequential order\n",
    "    \n",
    "l1 = [2,4,6,8,10,12,14,16,18,20]\n",
    "\n",
    "iterator = iter(l1)\n",
    "\n",
    "for i in range(0,5):\n",
    "    print(next(iterator))\n"
   ]
  },
  {
   "cell_type": "code",
   "execution_count": null,
   "id": "a8753e5d-f7ab-4327-8276-62376a17d989",
   "metadata": {},
   "outputs": [],
   "source": [
    "# Q4. What is a generator function in python? Why yield keyword is used? Give an example of a generator\n",
    "# function.\n",
    "# Ans:\n",
    "#     Generator : it is function which generate outcomes continously without storing in memory here we use \n",
    "#                 Generator function it is very very help ful when the data is so big or something goes \n",
    "#                 to million and billions times so in this case gerator work very well\n",
    "                \n",
    "      # yield : it is special reserved keyword which help for making generator function\n",
    "        \n",
    "# print all the even number 1-100 using generator function\n",
    "def odd_even(n):\n",
    "    for i in range(n):\n",
    "        if i%2==0 :\n",
    "            yield i\n",
    "    "
   ]
  },
  {
   "cell_type": "code",
   "execution_count": null,
   "id": "86131724-13d4-4d80-a4cc-a2bcf12fe847",
   "metadata": {},
   "outputs": [
    {
     "name": "stdout",
     "output_type": "stream",
     "text": [
      "0\n",
      "2\n",
      "4\n",
      "6\n",
      "8\n",
      "10\n",
      "12\n",
      "14\n",
      "16\n",
      "18\n",
      "20\n",
      "22\n",
      "24\n",
      "26\n",
      "28\n",
      "30\n",
      "32\n",
      "34\n",
      "36\n",
      "38\n",
      "40\n",
      "42\n",
      "44\n",
      "46\n",
      "48\n",
      "50\n",
      "52\n",
      "54\n",
      "56\n",
      "58\n",
      "60\n",
      "62\n",
      "64\n",
      "66\n",
      "68\n",
      "70\n",
      "72\n",
      "74\n",
      "76\n",
      "78\n",
      "80\n",
      "82\n",
      "84\n",
      "86\n",
      "88\n",
      "90\n",
      "92\n",
      "94\n",
      "96\n",
      "98\n",
      "100\n"
     ]
    }
   ],
   "source": [
    "for i in odd_even(101):\n",
    "    print(i)"
   ]
  },
  {
   "cell_type": "code",
   "execution_count": null,
   "id": "6517488a-bb85-496c-a5a2-1fec93438a13",
   "metadata": {},
   "outputs": [],
   "source": []
  },
  {
   "cell_type": "code",
   "execution_count": 42,
   "id": "8317eb23-1174-458b-ad61-eb49ffc969a7",
   "metadata": {},
   "outputs": [],
   "source": [
    "# Q5. Create a generator function for prime numbers less than 1000. Use the next() method to print the\n",
    "# first 20 prime numbers.\n",
    "# Ans:\n",
    "def find():\n",
    "    prime_list = []\n",
    "    \n",
    "    for i in range(2,1000):\n",
    "        for j in prime_list:\n",
    "            if i%j==0:\n",
    "                break\n",
    "        else:\n",
    "            prime_list.append(i)\n",
    "            yield i\n",
    "        "
   ]
  },
  {
   "cell_type": "code",
   "execution_count": 43,
   "id": "8d3656e1-af86-49e3-9121-6dc5369fe511",
   "metadata": {},
   "outputs": [],
   "source": [
    "prime = find()"
   ]
  },
  {
   "cell_type": "code",
   "execution_count": 44,
   "id": "d63f65cc-65ad-4372-b598-2d5f87c73c24",
   "metadata": {},
   "outputs": [
    {
     "name": "stdout",
     "output_type": "stream",
     "text": [
      "2\n",
      "3\n",
      "5\n",
      "7\n",
      "11\n",
      "13\n",
      "17\n",
      "19\n",
      "23\n",
      "29\n",
      "31\n",
      "37\n",
      "41\n",
      "43\n",
      "47\n",
      "53\n",
      "59\n",
      "61\n",
      "67\n",
      "71\n"
     ]
    }
   ],
   "source": [
    "for i in range(1,21):\n",
    "    print(next (prime))"
   ]
  },
  {
   "cell_type": "code",
   "execution_count": null,
   "id": "ef57739b-76d6-4dbe-90e4-4fd834d633b7",
   "metadata": {},
   "outputs": [],
   "source": []
  },
  {
   "cell_type": "code",
   "execution_count": 16,
   "id": "6ffc7fcd-ca9c-4556-9cd7-c07fe533895f",
   "metadata": {},
   "outputs": [
    {
     "name": "stdout",
     "output_type": "stream",
     "text": [
      "0\n",
      "0\n",
      "1\n",
      "2\n",
      "3\n",
      "5\n",
      "8\n",
      "13\n",
      "21\n",
      "34\n",
      "55\n"
     ]
    }
   ],
   "source": [
    "# Q6. Write a python program to print the first 10 Fibonacci numbers using a while loop.\n",
    "a,b = 0,1\n",
    "i=0\n",
    "while i <=10:\n",
    "    if i<=1:\n",
    "        \n",
    "        print(a)\n",
    "    else:\n",
    "        \n",
    "        next = a+b\n",
    "        a=b\n",
    "        b=next\n",
    "        print(next)\n",
    "    i+=1\n",
    "    "
   ]
  },
  {
   "cell_type": "code",
   "execution_count": null,
   "id": "928c03d6-5ed1-423e-a101-01841caf4a16",
   "metadata": {},
   "outputs": [],
   "source": []
  },
  {
   "cell_type": "code",
   "execution_count": 17,
   "id": "4d6a0e84-3e85-4a09-9136-6ca28f944017",
   "metadata": {},
   "outputs": [],
   "source": [
    "# Q7. Write a List Comprehension to iterate through the given string: ‘pwskills’.\n",
    "# Expected output: ['p', 'w', 's', 'k', 'i', 'l', 'l', 's']\n",
    "\n",
    "l=\"pwskills\""
   ]
  },
  {
   "cell_type": "code",
   "execution_count": 23,
   "id": "25b8017c-1689-407f-bcc1-1596dfb4ff52",
   "metadata": {},
   "outputs": [
    {
     "data": {
      "text/plain": [
       "['p', 'w', 's', 'k', 'i', 'l', 'l', 's']"
      ]
     },
     "execution_count": 23,
     "metadata": {},
     "output_type": "execute_result"
    }
   ],
   "source": [
    "[l[i] for i in range(len(l)) ]"
   ]
  },
  {
   "cell_type": "code",
   "execution_count": 23,
   "id": "c25546dc-2f0f-4258-851f-b0aa4540f7ad",
   "metadata": {},
   "outputs": [
    {
     "name": "stdin",
     "output_type": "stream",
     "text": [
      "Enter Your Number 121\n"
     ]
    },
    {
     "name": "stdout",
     "output_type": "stream",
     "text": [
      "its Palindrom Number\n"
     ]
    }
   ],
   "source": [
    "# Q8. Write a python program to check whether a given number is Palindrome or not using a while loop.\n",
    "# Ans\n",
    "\n",
    "number = input(\"Enter Your Number\")\n",
    "if number==number[::-1]:\n",
    "    print(\"its Palindrom Number\")\n",
    "else :\n",
    "    print(\"its not palindrom Number\")"
   ]
  },
  {
   "cell_type": "code",
   "execution_count": 32,
   "id": "46783634-d8a1-4878-a8c2-725ba7b22b8d",
   "metadata": {},
   "outputs": [
    {
     "data": {
      "text/plain": [
       "[1,\n",
       " 3,\n",
       " 5,\n",
       " 7,\n",
       " 9,\n",
       " 11,\n",
       " 13,\n",
       " 15,\n",
       " 17,\n",
       " 19,\n",
       " 21,\n",
       " 23,\n",
       " 25,\n",
       " 27,\n",
       " 29,\n",
       " 31,\n",
       " 33,\n",
       " 35,\n",
       " 37,\n",
       " 39,\n",
       " 41,\n",
       " 43,\n",
       " 45,\n",
       " 47,\n",
       " 49,\n",
       " 51,\n",
       " 53,\n",
       " 55,\n",
       " 57,\n",
       " 59,\n",
       " 61,\n",
       " 63,\n",
       " 65,\n",
       " 67,\n",
       " 69,\n",
       " 71,\n",
       " 73,\n",
       " 75,\n",
       " 77,\n",
       " 79,\n",
       " 81,\n",
       " 83,\n",
       " 85,\n",
       " 87,\n",
       " 89,\n",
       " 91,\n",
       " 93,\n",
       " 95,\n",
       " 97,\n",
       " 99]"
      ]
     },
     "execution_count": 32,
     "metadata": {},
     "output_type": "execute_result"
    }
   ],
   "source": [
    "# Q9. Write a code to print odd numbers from 1 to 100 using list comprehension.\n",
    "\n",
    "[i for i in range(0,101) if i%2!=0 ]"
   ]
  },
  {
   "cell_type": "code",
   "execution_count": null,
   "id": "40b66316-efd5-4ccc-bfdd-ae6752c1589e",
   "metadata": {},
   "outputs": [],
   "source": []
  }
 ],
 "metadata": {
  "kernelspec": {
   "display_name": "Python 3 (ipykernel)",
   "language": "python",
   "name": "python3"
  },
  "language_info": {
   "codemirror_mode": {
    "name": "ipython",
    "version": 3
   },
   "file_extension": ".py",
   "mimetype": "text/x-python",
   "name": "python",
   "nbconvert_exporter": "python",
   "pygments_lexer": "ipython3",
   "version": "3.10.8"
  }
 },
 "nbformat": 4,
 "nbformat_minor": 5
}
